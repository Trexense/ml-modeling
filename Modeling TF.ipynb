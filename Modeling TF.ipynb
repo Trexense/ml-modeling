{
 "cells": [
  {
   "cell_type": "markdown",
   "metadata": {},
   "source": [
    "# Hotel Recommendation"
   ]
  },
  {
   "cell_type": "code",
   "execution_count": null,
   "metadata": {},
   "outputs": [],
   "source": []
  },
  {
   "cell_type": "markdown",
   "metadata": {},
   "source": [
    "## Business Understanding"
   ]
  },
  {
   "cell_type": "markdown",
   "metadata": {},
   "source": []
  },
  {
   "cell_type": "markdown",
   "metadata": {},
   "source": [
    "## Data Understanding"
   ]
  },
  {
   "cell_type": "code",
   "execution_count": 71,
   "metadata": {},
   "outputs": [],
   "source": [
    "import pandas as pd\n",
    "import tensorflow as tf\n",
    "from tensorflow.keras.preprocessing.text import Tokenizer\n",
    "from tensorflow.keras.preprocessing.sequence import pad_sequences\n",
    "from sklearn.model_selection import train_test_split\n",
    "import numpy as np\n",
    "import re\n",
    "import string\n",
    "import nltk\n",
    "from nltk.tokenize import word_tokenize\n",
    "from nltk.corpus import stopwords\n",
    "from Sastrawi.Stemmer.StemmerFactory import StemmerFactory\n",
    "from sklearn.metrics import classification_report\n",
    "import matplotlib.pyplot as plt\n",
    "import seaborn as sns"
   ]
  },
  {
   "cell_type": "code",
   "execution_count": null,
   "metadata": {},
   "outputs": [
    {
     "data": {
      "text/html": [
       "<div>\n",
       "<style scoped>\n",
       "    .dataframe tbody tr th:only-of-type {\n",
       "        vertical-align: middle;\n",
       "    }\n",
       "\n",
       "    .dataframe tbody tr th {\n",
       "        vertical-align: top;\n",
       "    }\n",
       "\n",
       "    .dataframe thead th {\n",
       "        text-align: right;\n",
       "    }\n",
       "</style>\n",
       "<table border=\"1\" class=\"dataframe\">\n",
       "  <thead>\n",
       "    <tr style=\"text-align: right;\">\n",
       "      <th></th>\n",
       "      <th>cheap</th>\n",
       "      <th>luxurious</th>\n",
       "      <th>clean</th>\n",
       "      <th>cozy</th>\n",
       "      <th>good service</th>\n",
       "      <th>nice view</th>\n",
       "      <th>parking</th>\n",
       "      <th>pool</th>\n",
       "      <th>spa</th>\n",
       "      <th>gym</th>\n",
       "      <th>...</th>\n",
       "      <th>breakfast</th>\n",
       "      <th>safety</th>\n",
       "      <th>family</th>\n",
       "      <th>pet</th>\n",
       "      <th>aesthetic</th>\n",
       "      <th>disability</th>\n",
       "      <th>laundry</th>\n",
       "      <th>id</th>\n",
       "      <th>text</th>\n",
       "      <th>text_id</th>\n",
       "    </tr>\n",
       "  </thead>\n",
       "  <tbody>\n",
       "    <tr>\n",
       "      <th>0</th>\n",
       "      <td>0</td>\n",
       "      <td>1</td>\n",
       "      <td>1</td>\n",
       "      <td>1</td>\n",
       "      <td>1</td>\n",
       "      <td>0</td>\n",
       "      <td>0</td>\n",
       "      <td>0</td>\n",
       "      <td>0</td>\n",
       "      <td>0</td>\n",
       "      <td>...</td>\n",
       "      <td>0</td>\n",
       "      <td>1</td>\n",
       "      <td>0</td>\n",
       "      <td>0</td>\n",
       "      <td>1</td>\n",
       "      <td>0</td>\n",
       "      <td>0</td>\n",
       "      <td>0</td>\n",
       "      <td>This hotel was nice and quiet. Did not know, t...</td>\n",
       "      <td>Hotel ini bagus dan tenang. Tidak tahu, ada re...</td>\n",
       "    </tr>\n",
       "    <tr>\n",
       "      <th>1</th>\n",
       "      <td>1</td>\n",
       "      <td>1</td>\n",
       "      <td>1</td>\n",
       "      <td>1</td>\n",
       "      <td>1</td>\n",
       "      <td>1</td>\n",
       "      <td>0</td>\n",
       "      <td>0</td>\n",
       "      <td>0</td>\n",
       "      <td>0</td>\n",
       "      <td>...</td>\n",
       "      <td>0</td>\n",
       "      <td>1</td>\n",
       "      <td>1</td>\n",
       "      <td>0</td>\n",
       "      <td>1</td>\n",
       "      <td>1</td>\n",
       "      <td>0</td>\n",
       "      <td>1</td>\n",
       "      <td>We stayed in the king suite with the separatio...</td>\n",
       "      <td>Kami menginap di suite king dengan pemisah ant...</td>\n",
       "    </tr>\n",
       "  </tbody>\n",
       "</table>\n",
       "<p>2 rows × 23 columns</p>\n",
       "</div>"
      ],
      "text/plain": [
       "   cheap  luxurious  clean  cozy  good service  nice view  parking  pool  spa  \\\n",
       "0      0          1      1     1             1          0        0     0    0   \n",
       "1      1          1      1     1             1          1        0     0    0   \n",
       "\n",
       "   gym  ...  breakfast  safety  family  pet  aesthetic  disability  laundry  \\\n",
       "0    0  ...          0       1       0    0          1           0        0   \n",
       "1    0  ...          0       1       1    0          1           1        0   \n",
       "\n",
       "   id                                               text  \\\n",
       "0   0  This hotel was nice and quiet. Did not know, t...   \n",
       "1   1  We stayed in the king suite with the separatio...   \n",
       "\n",
       "                                             text_id  \n",
       "0  Hotel ini bagus dan tenang. Tidak tahu, ada re...  \n",
       "1  Kami menginap di suite king dengan pemisah ant...  \n",
       "\n",
       "[2 rows x 23 columns]"
      ]
     },
     "execution_count": 72,
     "metadata": {},
     "output_type": "execute_result"
    }
   ],
   "source": [
    "data = pd.read_csv(\"dataset-1-labeled-merged.csv\")\n",
    "data"
   ]
  },
  {
   "cell_type": "code",
   "execution_count": 73,
   "metadata": {},
   "outputs": [
    {
     "name": "stdout",
     "output_type": "stream",
     "text": [
      "<class 'pandas.core.frame.DataFrame'>\n",
      "RangeIndex: 9889 entries, 0 to 9888\n",
      "Data columns (total 23 columns):\n",
      " #   Column        Non-Null Count  Dtype \n",
      "---  ------        --------------  ----- \n",
      " 0   cheap         9889 non-null   int64 \n",
      " 1   luxurious     9889 non-null   int64 \n",
      " 2   clean         9889 non-null   int64 \n",
      " 3   cozy          9889 non-null   int64 \n",
      " 4   good service  9889 non-null   int64 \n",
      " 5   nice view     9889 non-null   int64 \n",
      " 6   parking       9889 non-null   int64 \n",
      " 7   pool          9889 non-null   int64 \n",
      " 8   spa           9889 non-null   int64 \n",
      " 9   gym           9889 non-null   int64 \n",
      " 10  wifi          9889 non-null   int64 \n",
      " 11  strategic     9889 non-null   int64 \n",
      " 12  delicious     9889 non-null   int64 \n",
      " 13  breakfast     9889 non-null   int64 \n",
      " 14  safety        9889 non-null   int64 \n",
      " 15  family        9889 non-null   int64 \n",
      " 16  pet           9889 non-null   int64 \n",
      " 17  aesthetic     9889 non-null   int64 \n",
      " 18  disability    9889 non-null   int64 \n",
      " 19  laundry       9889 non-null   int64 \n",
      " 20  id            9889 non-null   int64 \n",
      " 21  text          9889 non-null   object\n",
      " 22  text_id       9869 non-null   object\n",
      "dtypes: int64(21), object(2)\n",
      "memory usage: 1.7+ MB\n"
     ]
    }
   ],
   "source": [
    "data.info()"
   ]
  },
  {
   "cell_type": "code",
   "execution_count": 74,
   "metadata": {},
   "outputs": [
    {
     "name": "stdout",
     "output_type": "stream",
     "text": [
      "Index(['cheap', 'luxurious', 'clean', 'cozy', 'good service', 'nice view',\n",
      "       'parking', 'pool', 'spa', 'gym', 'wifi', 'strategic', 'delicious',\n",
      "       'breakfast', 'safety', 'family', 'pet', 'aesthetic', 'disability',\n",
      "       'laundry', 'id', 'text', 'text_id'],\n",
      "      dtype='object')\n"
     ]
    }
   ],
   "source": [
    "print(data.columns)"
   ]
  },
  {
   "cell_type": "code",
   "execution_count": 75,
   "metadata": {},
   "outputs": [
    {
     "data": {
      "image/png": "[encoded data removed]",
      "text/plain": [
       "<Figure size 864x432 with 1 Axes>"
      ]
     },
     "metadata": {
      "needs_background": "light"
     },
     "output_type": "display_data"
    }
   ],
   "source": [
    "\n",
    "\n",
    "# Memilih kolom kategori dari cheap hingga laundry\n",
    "category_columns = ['cheap', 'luxurious', 'clean', 'cozy', 'good service', 'nice view', 'parking', 'pool', 'spa', 'gym', 'wifi', 'strategic', 'delicious', 'breakfast', 'safety', 'family', 'pet', 'aesthetic', 'disability', 'laundry']\n",
    "\n",
    "# Menghitung jumlah nilai 1 di setiap kategori\n",
    "category_counts = data[category_columns].sum()\n",
    "\n",
    "# Membuat DataFrame untuk visualisasi\n",
    "category_df = pd.DataFrame({'Category': category_counts.index, 'Count': category_counts.values})\n",
    "\n",
    "# Membuat visualisasi\n",
    "plt.figure(figsize=(12, 6))\n",
    "sns.barplot(data=category_df, x='Category', y='Count', palette='viridis')\n",
    "\n",
    "# Menambahkan judul dan label\n",
    "plt.title('Jumlah Record dengan Nilai 1 pada Setiap Kategori', fontsize=14)\n",
    "plt.xlabel('Kategori', fontsize=12)\n",
    "plt.ylabel('Jumlah Record', fontsize=12)\n",
    "plt.xticks(rotation=45, ha='right')\n",
    "plt.tight_layout()\n",
    "plt.show()\n"
   ]
  },
  {
   "cell_type": "markdown",
   "metadata": {},
   "source": [
    "## Data Preparation"
   ]
  },
  {
   "cell_type": "code",
   "execution_count": 76,
   "metadata": {},
   "outputs": [
    {
     "name": "stderr",
     "output_type": "stream",
     "text": [
      "[nltk_data] Downloading package punkt to\n",
      "[nltk_data]     C:\\Users\\ACER\\AppData\\Roaming\\nltk_data...\n",
      "[nltk_data]   Package punkt is already up-to-date!\n",
      "[nltk_data] Downloading package stopwords to\n",
      "[nltk_data]     C:\\Users\\ACER\\AppData\\Roaming\\nltk_data...\n",
      "[nltk_data]   Package stopwords is already up-to-date!\n"
     ]
    }
   ],
   "source": [
    "# Download NLTK resources\n",
    "nltk.download('punkt')\n",
    "nltk.download('stopwords')\n",
    "\n",
    "# Stopwords bahasa Indonesia\n",
    "stop_words = set(stopwords.words('indonesian'))\n",
    "\n",
    "# Inisialisasi stemmer\n",
    "factory = StemmerFactory()\n",
    "stemmer = factory.create_stemmer()\n",
    "\n",
    "# Normalization dictionary (contoh)\n",
    "kamus_slang = pd.read_excel('combined_slang_words.xlsx')\n",
    "slang_dict = dict(zip(kamus_slang['Kunci'], kamus_slang['Nilai']))\n",
    "\n",
    "# Preprocessing function\n",
    "def preprocess_text(text):\n",
    "    # 1. Case folding\n",
    "    text = text.lower()\n",
    "    \n",
    "    # 2. Remove non-alphanumeric characters\n",
    "    text = re.sub(r'[^a-zA-Z0-9\\s]', '', text)\n",
    "    text = re.sub('\\[.*?\\]', ' ', text)\n",
    "    text = re.sub('https?://\\S+|www\\.\\S+', ' ', text)\n",
    "    text = re.sub('<.*?>+', ' ', text)\n",
    "    text = re.sub('[%s]' % re.escape(string.punctuation), ' ', text)\n",
    "    text = re.sub('\\n', ' ', text)\n",
    "    text = re.sub('\\w*\\d\\w*', ' ', text)\n",
    "    \n",
    "    # 3. Tokenizing\n",
    "    tokens = word_tokenize(text)\n",
    "    \n",
    "    # 4. Normalization\n",
    "    tokens = [slang_dict.get(word, word) for word in tokens]\n",
    "    \n",
    "    # 5. Stopword removal\n",
    "    tokens = [word for word in tokens if word not in stop_words]\n",
    "    \n",
    "    # 6. Stemming\n",
    "    tokens = [stemmer.stem(word) for word in tokens]\n",
    "    \n",
    "    # Join tokens back to text\n",
    "    return ' '.join(tokens)\n"
   ]
  },
  {
   "cell_type": "code",
   "execution_count": 78,
   "metadata": {},
   "outputs": [],
   "source": [
    "# Preprocess all texts in the dataset\n",
    "data['text_id'] = data['text_id'].astype(str)\n",
    "data['processed_text'] = data['text_id'].apply(preprocess_text)\n",
    "\n",
    "# Pilih teks yang sudah diproses\n",
    "texts = data['processed_text'].astype(str).tolist()\n",
    "\n",
    "# Label tetap sama seperti sebelumnya\n",
    "labels = data[['cheap', 'luxurious', 'clean', 'cozy', 'good service', 'nice view','parking', 'pool', 'spa', 'gym', 'wifi', 'strategic', 'delicious', 'breakfast', 'safety', 'family', 'pet', 'aesthetic', 'disability', 'laundry']].values"
   ]
  },
  {
   "cell_type": "markdown",
   "metadata": {},
   "source": [
    "## Modelling"
   ]
  },
  {
   "cell_type": "code",
   "execution_count": 79,
   "metadata": {},
   "outputs": [],
   "source": [
    "VOCAB_SIZE = 5000\n",
    "MAX_LENGTH = 100\n",
    "OOV_TOKEN = \"<OOV>\"\n",
    "EPOCHS = 50\n",
    "BATCH_SIZE = 256"
   ]
  },
  {
   "cell_type": "code",
   "execution_count": 80,
   "metadata": {},
   "outputs": [],
   "source": [
    "# Tokenisasi\n",
    "tokenizer = Tokenizer(num_words=VOCAB_SIZE, oov_token=OOV_TOKEN)\n",
    "tokenizer.fit_on_texts(texts)\n",
    "sequences = tokenizer.texts_to_sequences(texts)\n",
    "padded_sequences = pad_sequences(sequences, maxlen=MAX_LENGTH, padding='post', truncating='post')"
   ]
  },
  {
   "cell_type": "code",
   "execution_count": 81,
   "metadata": {},
   "outputs": [
    {
     "name": "stdout",
     "output_type": "stream",
     "text": [
      "Shape data training: (7911, 100), Shape data testing: (1978, 100)\n"
     ]
    }
   ],
   "source": [
    "# Split data\n",
    "X_train, X_test, y_train, y_test = train_test_split(padded_sequences, labels, test_size=0.2, random_state=42)\n",
    "\n",
    "print(f\"Shape data training: {X_train.shape}, Shape data testing: {X_test.shape}\")"
   ]
  },
  {
   "cell_type": "code",
   "execution_count": 82,
   "metadata": {},
   "outputs": [
    {
     "name": "stdout",
     "output_type": "stream",
     "text": [
      "Model: \"sequential_9\"\n",
      "_________________________________________________________________\n",
      " Layer (type)                Output Shape              Param #   \n",
      "=================================================================\n",
      " embedding_8 (Embedding)     (None, 100, 16)           80000     \n",
      "                                                                 \n",
      " global_average_pooling1d_8   (None, 16)               0         \n",
      " (GlobalAveragePooling1D)                                        \n",
      "                                                                 \n",
      " dense_19 (Dense)            (None, 64)                1088      \n",
      "                                                                 \n",
      " dense_20 (Dense)            (None, 20)                1300      \n",
      "                                                                 \n",
      "=================================================================\n",
      "Total params: 82,388\n",
      "Trainable params: 82,388\n",
      "Non-trainable params: 0\n",
      "_________________________________________________________________\n"
     ]
    }
   ],
   "source": [
    "# Bangun model\n",
    "model = tf.keras.Sequential([\n",
    "    tf.keras.layers.Embedding(VOCAB_SIZE, 16, input_length=MAX_LENGTH),\n",
    "    tf.keras.layers.GlobalAveragePooling1D(),\n",
    "    tf.keras.layers.Dense(64, activation='relu'),\n",
    "    tf.keras.layers.Dense(labels.shape[1], activation='sigmoid')  # Aktivasi sigmoid untuk multilabel\n",
    "])\n",
    "\n",
    "model.compile(optimizer='adam', loss='binary_crossentropy', metrics=['accuracy'])\n",
    "model.summary()\n"
   ]
  },
  {
   "cell_type": "code",
   "execution_count": 83,
   "metadata": {},
   "outputs": [
    {
     "name": "stdout",
     "output_type": "stream",
     "text": [
      "Epoch 1/50\n",
      "31/31 [==============================] - 2s 16ms/step - loss: 0.6781 - accuracy: 0.0279 - val_loss: 0.6555 - val_accuracy: 0.0283\n",
      "Epoch 2/50\n",
      "31/31 [==============================] - 0s 8ms/step - loss: 0.6138 - accuracy: 0.0240 - val_loss: 0.5601 - val_accuracy: 0.0283\n",
      "Epoch 3/50\n",
      "31/31 [==============================] - 0s 8ms/step - loss: 0.5091 - accuracy: 0.0240 - val_loss: 0.4787 - val_accuracy: 0.0283\n",
      "Epoch 4/50\n",
      "31/31 [==============================] - 0s 8ms/step - loss: 0.4625 - accuracy: 0.0282 - val_loss: 0.4635 - val_accuracy: 0.0334\n",
      "Epoch 5/50\n",
      "31/31 [==============================] - 0s 8ms/step - loss: 0.4544 - accuracy: 0.0364 - val_loss: 0.4598 - val_accuracy: 0.0334\n",
      "Epoch 6/50\n",
      "31/31 [==============================] - 0s 8ms/step - loss: 0.4513 - accuracy: 0.0364 - val_loss: 0.4568 - val_accuracy: 0.0334\n",
      "Epoch 7/50\n",
      "31/31 [==============================] - 0s 7ms/step - loss: 0.4481 - accuracy: 0.0364 - val_loss: 0.4531 - val_accuracy: 0.0334\n",
      "Epoch 8/50\n",
      "31/31 [==============================] - 0s 8ms/step - loss: 0.4435 - accuracy: 0.0364 - val_loss: 0.4473 - val_accuracy: 0.0334\n",
      "Epoch 9/50\n",
      "31/31 [==============================] - 0s 8ms/step - loss: 0.4369 - accuracy: 0.0364 - val_loss: 0.4393 - val_accuracy: 0.0334\n",
      "Epoch 10/50\n",
      "31/31 [==============================] - 0s 7ms/step - loss: 0.4288 - accuracy: 0.0364 - val_loss: 0.4305 - val_accuracy: 0.0334\n",
      "Epoch 11/50\n",
      "31/31 [==============================] - 0s 7ms/step - loss: 0.4204 - accuracy: 0.0364 - val_loss: 0.4217 - val_accuracy: 0.0334\n",
      "Epoch 12/50\n",
      "31/31 [==============================] - 0s 9ms/step - loss: 0.4118 - accuracy: 0.0364 - val_loss: 0.4126 - val_accuracy: 0.0334\n",
      "Epoch 13/50\n",
      "31/31 [==============================] - 0s 8ms/step - loss: 0.4028 - accuracy: 0.0365 - val_loss: 0.4035 - val_accuracy: 0.0334\n",
      "Epoch 14/50\n",
      "31/31 [==============================] - 0s 8ms/step - loss: 0.3943 - accuracy: 0.0364 - val_loss: 0.3955 - val_accuracy: 0.0334\n",
      "Epoch 15/50\n",
      "31/31 [==============================] - 0s 8ms/step - loss: 0.3868 - accuracy: 0.0363 - val_loss: 0.3898 - val_accuracy: 0.0329\n",
      "Epoch 16/50\n",
      "31/31 [==============================] - 0s 8ms/step - loss: 0.3804 - accuracy: 0.0354 - val_loss: 0.3844 - val_accuracy: 0.0324\n",
      "Epoch 17/50\n",
      "31/31 [==============================] - 0s 8ms/step - loss: 0.3753 - accuracy: 0.0351 - val_loss: 0.3804 - val_accuracy: 0.0324\n",
      "Epoch 18/50\n",
      "31/31 [==============================] - 0s 8ms/step - loss: 0.3710 - accuracy: 0.0340 - val_loss: 0.3771 - val_accuracy: 0.0329\n",
      "Epoch 19/50\n",
      "31/31 [==============================] - 0s 8ms/step - loss: 0.3673 - accuracy: 0.0340 - val_loss: 0.3751 - val_accuracy: 0.0334\n",
      "Epoch 20/50\n",
      "31/31 [==============================] - 0s 8ms/step - loss: 0.3643 - accuracy: 0.0339 - val_loss: 0.3731 - val_accuracy: 0.0334\n",
      "Epoch 21/50\n",
      "31/31 [==============================] - 0s 8ms/step - loss: 0.3618 - accuracy: 0.0339 - val_loss: 0.3718 - val_accuracy: 0.0334\n",
      "Epoch 22/50\n",
      "31/31 [==============================] - 0s 8ms/step - loss: 0.3592 - accuracy: 0.0340 - val_loss: 0.3707 - val_accuracy: 0.0339\n",
      "Epoch 23/50\n",
      "31/31 [==============================] - 0s 8ms/step - loss: 0.3569 - accuracy: 0.0341 - val_loss: 0.3703 - val_accuracy: 0.0339\n",
      "Epoch 24/50\n",
      "31/31 [==============================] - 0s 8ms/step - loss: 0.3550 - accuracy: 0.0346 - val_loss: 0.3686 - val_accuracy: 0.0339\n",
      "Epoch 25/50\n",
      "31/31 [==============================] - 0s 8ms/step - loss: 0.3529 - accuracy: 0.0344 - val_loss: 0.3681 - val_accuracy: 0.0339\n",
      "Epoch 26/50\n",
      "31/31 [==============================] - 0s 8ms/step - loss: 0.3510 - accuracy: 0.0343 - val_loss: 0.3676 - val_accuracy: 0.0344\n",
      "Epoch 27/50\n",
      "31/31 [==============================] - 0s 9ms/step - loss: 0.3491 - accuracy: 0.0346 - val_loss: 0.3666 - val_accuracy: 0.0339\n",
      "Epoch 28/50\n",
      "31/31 [==============================] - 0s 8ms/step - loss: 0.3473 - accuracy: 0.0345 - val_loss: 0.3662 - val_accuracy: 0.0339\n",
      "Epoch 29/50\n",
      "31/31 [==============================] - 0s 8ms/step - loss: 0.3454 - accuracy: 0.0346 - val_loss: 0.3652 - val_accuracy: 0.0339\n",
      "Epoch 30/50\n",
      "31/31 [==============================] - 0s 8ms/step - loss: 0.3438 - accuracy: 0.0348 - val_loss: 0.3663 - val_accuracy: 0.0339\n",
      "Epoch 31/50\n",
      "31/31 [==============================] - 0s 7ms/step - loss: 0.3419 - accuracy: 0.0350 - val_loss: 0.3640 - val_accuracy: 0.0339\n",
      "Epoch 32/50\n",
      "31/31 [==============================] - 0s 8ms/step - loss: 0.3399 - accuracy: 0.0351 - val_loss: 0.3645 - val_accuracy: 0.0339\n",
      "Epoch 33/50\n",
      "31/31 [==============================] - 0s 8ms/step - loss: 0.3383 - accuracy: 0.0349 - val_loss: 0.3633 - val_accuracy: 0.0339\n",
      "Epoch 34/50\n",
      "31/31 [==============================] - 0s 8ms/step - loss: 0.3365 - accuracy: 0.0351 - val_loss: 0.3623 - val_accuracy: 0.0344\n",
      "Epoch 35/50\n",
      "31/31 [==============================] - 0s 7ms/step - loss: 0.3344 - accuracy: 0.0350 - val_loss: 0.3622 - val_accuracy: 0.0349\n",
      "Epoch 36/50\n",
      "31/31 [==============================] - 0s 8ms/step - loss: 0.3327 - accuracy: 0.0350 - val_loss: 0.3614 - val_accuracy: 0.0349\n",
      "Epoch 37/50\n",
      "31/31 [==============================] - 0s 8ms/step - loss: 0.3308 - accuracy: 0.0349 - val_loss: 0.3607 - val_accuracy: 0.0349\n",
      "Epoch 38/50\n",
      "31/31 [==============================] - 0s 7ms/step - loss: 0.3289 - accuracy: 0.0350 - val_loss: 0.3605 - val_accuracy: 0.0349\n",
      "Epoch 39/50\n",
      "31/31 [==============================] - 0s 7ms/step - loss: 0.3271 - accuracy: 0.0350 - val_loss: 0.3599 - val_accuracy: 0.0349\n",
      "Epoch 40/50\n",
      "31/31 [==============================] - 0s 7ms/step - loss: 0.3253 - accuracy: 0.0345 - val_loss: 0.3601 - val_accuracy: 0.0349\n",
      "Epoch 41/50\n",
      "31/31 [==============================] - 0s 8ms/step - loss: 0.3237 - accuracy: 0.0348 - val_loss: 0.3593 - val_accuracy: 0.0349\n",
      "Epoch 42/50\n",
      "31/31 [==============================] - 0s 9ms/step - loss: 0.3221 - accuracy: 0.0354 - val_loss: 0.3596 - val_accuracy: 0.0354\n",
      "Epoch 43/50\n",
      "31/31 [==============================] - 0s 7ms/step - loss: 0.3204 - accuracy: 0.0348 - val_loss: 0.3588 - val_accuracy: 0.0349\n",
      "Epoch 44/50\n",
      "31/31 [==============================] - 0s 8ms/step - loss: 0.3190 - accuracy: 0.0353 - val_loss: 0.3604 - val_accuracy: 0.0359\n",
      "Epoch 45/50\n",
      "31/31 [==============================] - 0s 7ms/step - loss: 0.3177 - accuracy: 0.0351 - val_loss: 0.3584 - val_accuracy: 0.0349\n",
      "Epoch 46/50\n",
      "31/31 [==============================] - 0s 8ms/step - loss: 0.3161 - accuracy: 0.0353 - val_loss: 0.3582 - val_accuracy: 0.0349\n",
      "Epoch 47/50\n",
      "31/31 [==============================] - 0s 8ms/step - loss: 0.3147 - accuracy: 0.0353 - val_loss: 0.3585 - val_accuracy: 0.0354\n",
      "Epoch 48/50\n",
      "31/31 [==============================] - 0s 8ms/step - loss: 0.3133 - accuracy: 0.0356 - val_loss: 0.3588 - val_accuracy: 0.0354\n",
      "Epoch 49/50\n",
      "31/31 [==============================] - 0s 7ms/step - loss: 0.3119 - accuracy: 0.0353 - val_loss: 0.3582 - val_accuracy: 0.0354\n",
      "Epoch 50/50\n",
      "31/31 [==============================] - 0s 8ms/step - loss: 0.3106 - accuracy: 0.0354 - val_loss: 0.3587 - val_accuracy: 0.0354\n"
     ]
    }
   ],
   "source": [
    "# Latih model\n",
    "history = model.fit(X_train, y_train, epochs=EPOCHS, batch_size=BATCH_SIZE, validation_data=(X_test, y_test))"
   ]
  },
  {
   "cell_type": "markdown",
   "metadata": {},
   "source": [
    "## Evaluation"
   ]
  },
  {
   "cell_type": "code",
   "execution_count": 84,
   "metadata": {},
   "outputs": [
    {
     "name": "stdout",
     "output_type": "stream",
     "text": [
      "62/62 [==============================] - 0s 2ms/step - loss: 0.3587 - accuracy: 0.0354\n",
      "Loss: 0.3587011694908142, Accuracy: 0.03538928180932999\n"
     ]
    }
   ],
   "source": [
    "# Evaluasi model\n",
    "loss, accuracy = model.evaluate(X_test, y_test)\n",
    "print(f\"Loss: {loss}, Accuracy: {accuracy}\")\n"
   ]
  },
  {
   "cell_type": "code",
   "execution_count": 85,
   "metadata": {},
   "outputs": [
    {
     "data": {
      "image/png": "[encoded data removed]",
      "text/plain": [
       "<Figure size 432x288 with 1 Axes>"
      ]
     },
     "metadata": {
      "needs_background": "light"
     },
     "output_type": "display_data"
    },
    {
     "data": {
      "image/png": "[encoded data removed]",
      "text/plain": [
       "<Figure size 432x288 with 1 Axes>"
      ]
     },
     "metadata": {
      "needs_background": "light"
     },
     "output_type": "display_data"
    }
   ],
   "source": [
    "def plot_graphs(history, string):\n",
    "  plt.plot(history.history[string])\n",
    "  plt.plot(history.history['val_'+string])\n",
    "  plt.xlabel(\"Epochs\")\n",
    "  plt.ylabel(string)\n",
    "  plt.legend([string, 'val_'+string])\n",
    "  plt.show()\n",
    "\n",
    "plot_graphs(history, \"accuracy\")\n",
    "plot_graphs(history, \"loss\")"
   ]
  },
  {
   "cell_type": "code",
   "execution_count": 86,
   "metadata": {},
   "outputs": [
    {
     "name": "stdout",
     "output_type": "stream",
     "text": [
      "62/62 [==============================] - 0s 2ms/step\n",
      "              precision    recall  f1-score   support\n",
      "\n",
      "       cheap       0.65      0.68      0.66       918\n",
      "   luxurious       0.85      0.92      0.89      1383\n",
      "       clean       0.89      0.94      0.91      1513\n",
      "        cozy       0.92      0.96      0.94      1633\n",
      "good service       0.92      0.97      0.94      1679\n",
      "   nice view       0.92      0.97      0.95      1726\n",
      "     parking       0.57      0.27      0.37       307\n",
      "        pool       0.68      0.30      0.41       328\n",
      "         spa       0.38      0.06      0.10       225\n",
      "         gym       0.00      0.00      0.00        71\n",
      "        wifi       0.70      0.71      0.71       913\n",
      "   strategic       0.93      1.00      0.97      1845\n",
      "   delicious       0.66      0.64      0.65       796\n",
      "   breakfast       0.75      0.54      0.63       733\n",
      "      safety       0.69      0.74      0.72      1183\n",
      "      family       0.76      0.88      0.82      1334\n",
      "         pet       0.50      0.01      0.02       101\n",
      "   aesthetic       0.82      0.91      0.86      1453\n",
      "  disability       0.48      0.19      0.27       204\n",
      "     laundry       0.20      0.02      0.03        56\n",
      "\n",
      "   micro avg       0.83      0.83      0.83     18401\n",
      "   macro avg       0.66      0.59      0.59     18401\n",
      "weighted avg       0.81      0.83      0.81     18401\n",
      " samples avg       0.80      0.79      0.77     18401\n",
      "\n"
     ]
    },
    {
     "name": "stderr",
     "output_type": "stream",
     "text": [
      "c:\\Users\\ACER\\anaconda3\\lib\\site-packages\\sklearn\\metrics\\_classification.py:1318: UndefinedMetricWarning: Recall and F-score are ill-defined and being set to 0.0 in samples with no true labels. Use `zero_division` parameter to control this behavior.\n",
      "  _warn_prf(average, modifier, msg_start, len(result))\n"
     ]
    }
   ],
   "source": [
    "from sklearn.metrics import classification_report\n",
    "\n",
    "# Prediksi\n",
    "y_pred = model.predict(X_test)\n",
    "y_pred_binary = (y_pred > 0.5).astype(int)  # Konversi probabilitas menjadi binary\n",
    "\n",
    "# Evaluasi\n",
    "print(classification_report(y_test, y_pred_binary, target_names=['cheap', 'luxurious', 'clean', 'cozy', 'good service', 'nice view', 'parking', 'pool', 'spa', 'gym', 'wifi', 'strategic', 'delicious', 'breakfast', 'safety', 'family',  'pet', 'aesthetic', 'disability', 'laundry']))"
   ]
  },
  {
   "cell_type": "markdown",
   "metadata": {},
   "source": [
    "## Deployment"
   ]
  },
  {
   "cell_type": "code",
   "execution_count": 87,
   "metadata": {},
   "outputs": [
    {
     "name": "stdout",
     "output_type": "stream",
     "text": [
      "1/1 [==============================] - 0s 27ms/step\n",
      "cheap: 0.52\n",
      "luxurious: 0.67\n",
      "clean: 0.80\n",
      "cozy: 0.84\n",
      "good service: 0.92\n",
      "nice view: 0.87\n",
      "parking: 0.05\n",
      "pool: 0.05\n",
      "spa: 0.05\n",
      "gym: 0.01\n",
      "wifi: 0.20\n",
      "strategic: 0.94\n",
      "delicious: 0.31\n",
      "breakfast: 0.18\n",
      "safety: 0.34\n",
      "family: 0.45\n",
      "pet: 0.02\n",
      "aesthetic: 0.52\n",
      "disability: 0.02\n",
      "laundry: 0.00\n"
     ]
    }
   ],
   "source": [
    "# Prediksi pada teks baru\n",
    "new_text = [\"Hotelnya sangat bersih, murah, dan lokasinya strategis\"]\n",
    "new_sequences = tokenizer.texts_to_sequences(new_text)\n",
    "new_padded = pad_sequences(new_sequences, maxlen=MAX_LENGTH, padding='post')\n",
    "predictions = model.predict(new_padded)\n",
    "\n",
    "# Output probabilitas tiap label\n",
    "for idx, label in enumerate(['cheap', 'luxurious', 'clean', 'cozy', 'good service', 'nice view', 'parking', 'pool', 'spa', 'gym', 'wifi', 'strategic', 'delicious', 'breakfast', 'safety', 'family', 'pet', 'aesthetic', 'disability', 'laundry']):\n",
    "    print(f\"{label}: {predictions[0][idx]:.2f}\")"
   ]
  },
  {
   "cell_type": "code",
   "execution_count": null,
   "metadata": {},
   "outputs": [],
   "source": [
    "model.save(\"multilabel_text_classification_tf_model.h5\")"
   ]
  }
 ],
 "metadata": {
  "kernelspec": {
   "display_name": "base",
   "language": "python",
   "name": "python3"
  },
  "language_info": {
   "codemirror_mode": {
    "name": "ipython",
    "version": 3
   },
   "file_extension": ".py",
   "mimetype": "text/x-python",
   "name": "python",
   "nbconvert_exporter": "python",
   "pygments_lexer": "ipython3",
   "version": "3.9.12"
  }
 },
 "nbformat": 4,
 "nbformat_minor": 2
}
